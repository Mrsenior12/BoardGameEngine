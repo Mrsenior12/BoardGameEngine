{
 "cells": [
  {
   "cell_type": "code",
   "execution_count": 1,
   "metadata": {},
   "outputs": [],
   "source": [
    "import os\n",
    "import pprint\n",
    "import tempfile\n",
    "\n",
    "from typing import Dict, Text\n",
    "\n",
    "import numpy as np\n",
    "import tensorflow as tf\n",
    "import tensorflow_recommenders as tfrs\n",
    "import pandas as pd\n",
    "from sklearn.utils import shuffle\n",
    "from sklearn.model_selection import train_test_split\n"
   ]
  },
  {
   "cell_type": "code",
   "execution_count": 2,
   "metadata": {},
   "outputs": [],
   "source": [
    "# dane pobrane z https://www.kaggle.com/datasets/jvanelteren/boardgamegeek-reviews?resource=download&select=bgg-15m-reviews.csv\n",
    "processed = pd.read_csv('reviews_processed.csv')\n"
   ]
  },
  {
   "cell_type": "code",
   "execution_count": 3,
   "metadata": {},
   "outputs": [],
   "source": [
    "ratings = processed[['user', 'rating', 'ID']]\n",
    "games = processed[['ID', 'name']]\n"
   ]
  },
  {
   "cell_type": "code",
   "execution_count": 4,
   "metadata": {},
   "outputs": [],
   "source": [
    "games_dropped = games.drop_duplicates()"
   ]
  },
  {
   "cell_type": "code",
   "execution_count": 5,
   "metadata": {},
   "outputs": [],
   "source": [
    "games_ds = tf.data.Dataset.from_tensor_slices(dict(games_dropped))"
   ]
  },
  {
   "cell_type": "code",
   "execution_count": 6,
   "metadata": {},
   "outputs": [],
   "source": [
    "ratings = ratings.dropna()"
   ]
  },
  {
   "cell_type": "code",
   "execution_count": 8,
   "metadata": {},
   "outputs": [],
   "source": [
    "processed = processed.dropna()"
   ]
  },
  {
   "cell_type": "code",
   "execution_count": 9,
   "metadata": {},
   "outputs": [],
   "source": [
    "ratings_ds = tf.data.Dataset.from_tensor_slices(dict(processed))"
   ]
  },
  {
   "cell_type": "code",
   "execution_count": 10,
   "metadata": {},
   "outputs": [],
   "source": [
    "ratings_ds = ratings_ds.map(lambda x: {\n",
    "    \"game_id\" : x['ID'],\n",
    "    \"game_name\" : x['name'],\n",
    "    \"user_name\" : x['user'],\n",
    "    \"user_rating\" : x['rating']\n",
    "})"
   ]
  },
  {
   "cell_type": "code",
   "execution_count": 11,
   "metadata": {},
   "outputs": [],
   "source": [
    "games_ds = games_ds.map(lambda x: {\n",
    "    \"game_name\": x['name']\n",
    "})\n"
   ]
  },
  {
   "cell_type": "code",
   "execution_count": 12,
   "metadata": {},
   "outputs": [],
   "source": [
    "tf.random.set_seed(42)\n",
    "shuffled = ratings_ds.shuffle(10_000_000, seed=42, reshuffle_each_iteration=False)\n",
    "\n"
   ]
  },
  {
   "cell_type": "code",
   "execution_count": 13,
   "metadata": {},
   "outputs": [],
   "source": [
    "train = shuffled.take(8_000_000)\n",
    "test = shuffled.skip(8_000_000).take(2_000_000)"
   ]
  },
  {
   "cell_type": "code",
   "execution_count": 14,
   "metadata": {},
   "outputs": [],
   "source": [
    "game_titles = games_ds.batch(1000).map(lambda x: x['game_name'])\n",
    "user_names = ratings_ds.batch(1_000_000).map(lambda x: x['user_name'])"
   ]
  },
  {
   "cell_type": "code",
   "execution_count": 15,
   "metadata": {},
   "outputs": [],
   "source": [
    "games_ds_tensors = games_ds.map(lambda x: x['game_name'])"
   ]
  },
  {
   "cell_type": "code",
   "execution_count": 16,
   "metadata": {},
   "outputs": [],
   "source": [
    "unique_users = np.unique(np.concatenate(list(user_names)))"
   ]
  },
  {
   "cell_type": "code",
   "execution_count": 18,
   "metadata": {},
   "outputs": [],
   "source": [
    "unique_games = np.unique(np.concatenate(list(game_titles)))"
   ]
  },
  {
   "cell_type": "code",
   "execution_count": 20,
   "metadata": {},
   "outputs": [],
   "source": [
    "class GamesModel(tfrs.models.Model):\n",
    "    \n",
    "    def __init__(self, rating_weight: float, retrieval_weight: float) -> None:\n",
    "        \n",
    "        super().__init__()\n",
    "        \n",
    "        embedding_dimension = 32\n",
    "        \n",
    "        self.user_model: tf.keras.layers.Layer = tf.keras.Sequential([\n",
    "            tf.keras.layers.StringLookup(\n",
    "                vocabulary=unique_users, mask_token=None),\n",
    "            tf.keras.layers.Embedding(\n",
    "                len(unique_users) + 1, embedding_dimension)\n",
    "        ])\n",
    "\n",
    "        self.game_model: tf.keras.layers.Layer = tf.keras.Sequential([\n",
    "            tf.keras.layers.StringLookup(\n",
    "                vocabulary=unique_games, mask_token=None),\n",
    "            tf.keras.layers.Embedding(\n",
    "                len(unique_games) + 1, embedding_dimension)\n",
    "        ])\n",
    "        \n",
    "        self.rating_model = tf.keras.Sequential([\n",
    "            tf.keras.layers.Dense(256, activation='relu'),\n",
    "            tf.keras.layers.Dense(128, activation='relu'),\n",
    "            tf.keras.layers.Dense(1)\n",
    "        ])\n",
    "\n",
    "        self.rating_task: tf.keras.layers.Layer = tfrs.tasks.Ranking(\n",
    "            loss=tf.keras.losses.MeanSquaredError(),\n",
    "            metrics=[tf.keras.metrics.RootMeanSquaredError()],\n",
    "        )\n",
    "\n",
    "        self.retrieval_task: tf.keras.layers.Layer = tfrs.tasks.Retrieval(\n",
    "            metrics=tfrs.metrics.FactorizedTopK(\n",
    "                candidates=games_ds_tensors.batch(128).map(self.game_model)\n",
    "            )\n",
    "        )\n",
    "\n",
    "        self.rating_weight = rating_weight\n",
    "        self.retrieval_weight = retrieval_weight\n",
    "        \n",
    "    def call(self, features: Dict[Text, tf.Tensor]) -> tf.Tensor:\n",
    "        user_embeddings = self.user_model(features['user_name'])\n",
    "        game_embeddings = self.game_model(features['game_name'])\n",
    "        \n",
    "        return(\n",
    "            user_embeddings,\n",
    "            game_embeddings,\n",
    "            self.rating_model(\n",
    "                tf.concat([user_embeddings, game_embeddings], axis=1)\n",
    "            ),\n",
    "        )\n",
    "        \n",
    "    def compute_loss(self, features: Dict[Text, tf.Tensor], training=False) -> tf.Tensor:\n",
    "        \n",
    "        ratings = features.pop('user_rating')\n",
    "        \n",
    "        user_embeddings, game_embeddings, rating_predictions = self(features)\n",
    "        \n",
    "        rating_loss = self.rating_task(\n",
    "            labels = ratings,\n",
    "            predictions = rating_predictions,\n",
    "        )\n",
    "        \n",
    "        retrieval_loss = self.retrieval_task(user_embeddings, game_embeddings)\n",
    "        \n",
    "        return (self.rating_weight * rating_loss + self.retrieval_weight * retrieval_loss)"
   ]
  },
  {
   "cell_type": "code",
   "execution_count": 21,
   "metadata": {},
   "outputs": [],
   "source": [
    "model = GamesModel(rating_weight=1.0, retrieval_weight=0.0)\n",
    "model.compile(optimizer = tf.keras.optimizers.Adagrad(0.1))\n"
   ]
  },
  {
   "cell_type": "code",
   "execution_count": 22,
   "metadata": {},
   "outputs": [],
   "source": [
    "cached_train = train.shuffle(100_000).batch(8192).cache()\n",
    "cached_test = test.batch(4096).cache()"
   ]
  },
  {
   "cell_type": "code",
   "execution_count": 27,
   "metadata": {},
   "outputs": [
    {
     "name": "stdout",
     "output_type": "stream",
     "text": [
      "Epoch 1/3\n"
     ]
    }
   ],
   "source": [
    "model.fit(cached_train, epochs=3, verbose=1)"
   ]
  },
  {
   "cell_type": "code",
   "execution_count": 26,
   "metadata": {},
   "outputs": [
    {
     "data": {
      "text/plain": [
       "<tensorflow_recommenders.layers.factorized_top_k.BruteForce at 0x7f7b4d52abb0>"
      ]
     },
     "execution_count": 26,
     "metadata": {},
     "output_type": "execute_result"
    }
   ],
   "source": [
    "bruteforce = tfrs.layers.factorized_top_k.BruteForce(model.user_model)\n",
    "bruteforce.index_from_dataset(\n",
    "    games_ds_tensors.batch(128).map(lambda name: (name, model.game_model(name)))\n",
    ")"
   ]
  },
  {
   "cell_type": "code",
   "execution_count": 31,
   "metadata": {},
   "outputs": [
    {
     "name": "stderr",
     "output_type": "stream",
     "text": [
      "WARNING:absl:Found untraced functions such as query_with_exclusions while saving (showing 1 of 1). These functions will not be directly callable after loading.\n"
     ]
    },
    {
     "name": "stdout",
     "output_type": "stream",
     "text": [
      "INFO:tensorflow:Assets written to: ./bruteforce_saved/assets\n"
     ]
    },
    {
     "name": "stderr",
     "output_type": "stream",
     "text": [
      "INFO:tensorflow:Assets written to: ./bruteforce_saved/assets\n"
     ]
    }
   ],
   "source": [
    "tf.saved_model.save(bruteforce, \"./bruteforce_saved\", options=tf.saved_model.SaveOptions(namespace_whitelist=[\"BruteForce\"]))"
   ]
  }
 ],
 "metadata": {
  "kernelspec": {
   "display_name": "tf",
   "language": "python",
   "name": "python3"
  },
  "language_info": {
   "codemirror_mode": {
    "name": "ipython",
    "version": 3
   },
   "file_extension": ".py",
   "mimetype": "text/x-python",
   "name": "python",
   "nbconvert_exporter": "python",
   "pygments_lexer": "ipython3",
   "version": "3.9.15"
  },
  "orig_nbformat": 4,
  "vscode": {
   "interpreter": {
    "hash": "39c75269610a197430b48309ba70bf3d51bdbb554a100837ad9d95732df290f8"
   }
  }
 },
 "nbformat": 4,
 "nbformat_minor": 2
}
